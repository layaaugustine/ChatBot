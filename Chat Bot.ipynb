{
 "cells": [
  {
   "cell_type": "code",
   "execution_count": 1,
   "id": "89e72ea3",
   "metadata": {},
   "outputs": [
    {
     "name": "stdout",
     "output_type": "stream",
     "text": [
      "<class 'dict'>\n"
     ]
    }
   ],
   "source": [
    "import json\n",
    "data_file=open(\"C:\\\\Users\\\\Leya\\\\Downloads\\\\intents.json\").read()\n",
    "intents=json.loads(data_file)\n",
    "print(type(intents))\n",
    "# print(intents)"
   ]
  },
  {
   "cell_type": "code",
   "execution_count": 2,
   "id": "7667e036",
   "metadata": {},
   "outputs": [],
   "source": [
    "import nltk\n",
    "from nltk.stem import WordNetLemmatizer\n",
    "lemmatizer=WordNetLemmatizer()\n",
    "\n",
    "words=[]\n",
    "classes=[]\n",
    "documents=[]\n",
    "ignore_words=['?','!']"
   ]
  },
  {
   "cell_type": "code",
   "execution_count": 3,
   "id": "9dd69f08",
   "metadata": {},
   "outputs": [
    {
     "name": "stdout",
     "output_type": "stream",
     "text": [
      "194\n",
      "47\n",
      "9\n",
      "['Hi', 'there', 'How', 'are', 'you', 'Is', 'anyone', 'there', '?', 'Hey', 'Hola', 'Hello', 'Good', 'day', 'Bye', 'See', 'you', 'later', 'Goodbye', 'Nice', 'chatting', 'to', 'you', ',', 'bye', 'Till', 'next', 'time', 'Thanks', 'Thank', 'you', 'That', \"'s\", 'helpful', 'Awesome', ',', 'thanks', 'Thanks', 'for', 'helping', 'me', 'How', 'you', 'could', 'help', 'me', '?', 'What', 'you', 'can', 'do', '?', 'What', 'help', 'you', 'provide', '?', 'How', 'you', 'can', 'be', 'helpful', '?', 'What', 'support', 'is', 'offered', 'How', 'to', 'check', 'Adverse', 'drug', 'reaction', '?', 'Open', 'adverse', 'drugs', 'module', 'Give', 'me', 'a', 'list', 'of', 'drugs', 'causing', 'adverse', 'behavior', 'List', 'all', 'drugs', 'suitable', 'for', 'patient', 'with', 'adverse', 'reaction', 'Which', 'drugs', 'dont', 'have', 'adverse', 'reaction', '?', 'Open', 'blood', 'pressure', 'module', 'Task', 'related', 'to', 'blood', 'pressure', 'Blood', 'pressure', 'data', 'entry', 'I', 'want', 'to', 'log', 'blood', 'pressure', 'results', 'Blood', 'pressure', 'data', 'management', 'I', 'want', 'to', 'search', 'for', 'blood', 'pressure', 'result', 'history', 'Blood', 'pressure', 'for', 'patient', 'Load', 'patient', 'blood', 'pressure', 'result', 'Show', 'blood', 'pressure', 'results', 'for', 'patient', 'Find', 'blood', 'pressure', 'results', 'by', 'ID', 'Find', 'me', 'a', 'pharmacy', 'Find', 'pharmacy', 'List', 'of', 'pharmacies', 'nearby', 'Locate', 'pharmacy', 'Search', 'pharmacy', 'Lookup', 'for', 'hospital', 'Searching', 'for', 'hospital', 'to', 'transfer', 'patient', 'I', 'want', 'to', 'search', 'hospital', 'data', 'Hospital', 'lookup', 'for', 'patient', 'Looking', 'up', 'hospital', 'details']\n",
      "[(['Hi', 'there'], 'greeting'), (['How', 'are', 'you'], 'greeting'), (['Is', 'anyone', 'there', '?'], 'greeting'), (['Hey'], 'greeting'), (['Hola'], 'greeting'), (['Hello'], 'greeting'), (['Good', 'day'], 'greeting'), (['Bye'], 'goodbye'), (['See', 'you', 'later'], 'goodbye'), (['Goodbye'], 'goodbye'), (['Nice', 'chatting', 'to', 'you', ',', 'bye'], 'goodbye'), (['Till', 'next', 'time'], 'goodbye'), (['Thanks'], 'thanks'), (['Thank', 'you'], 'thanks'), (['That', \"'s\", 'helpful'], 'thanks'), (['Awesome', ',', 'thanks'], 'thanks'), (['Thanks', 'for', 'helping', 'me'], 'thanks'), (['How', 'you', 'could', 'help', 'me', '?'], 'options'), (['What', 'you', 'can', 'do', '?'], 'options'), (['What', 'help', 'you', 'provide', '?'], 'options'), (['How', 'you', 'can', 'be', 'helpful', '?'], 'options'), (['What', 'support', 'is', 'offered'], 'options'), (['How', 'to', 'check', 'Adverse', 'drug', 'reaction', '?'], 'adverse_drug'), (['Open', 'adverse', 'drugs', 'module'], 'adverse_drug'), (['Give', 'me', 'a', 'list', 'of', 'drugs', 'causing', 'adverse', 'behavior'], 'adverse_drug'), (['List', 'all', 'drugs', 'suitable', 'for', 'patient', 'with', 'adverse', 'reaction'], 'adverse_drug'), (['Which', 'drugs', 'dont', 'have', 'adverse', 'reaction', '?'], 'adverse_drug'), (['Open', 'blood', 'pressure', 'module'], 'blood_pressure'), (['Task', 'related', 'to', 'blood', 'pressure'], 'blood_pressure'), (['Blood', 'pressure', 'data', 'entry'], 'blood_pressure'), (['I', 'want', 'to', 'log', 'blood', 'pressure', 'results'], 'blood_pressure'), (['Blood', 'pressure', 'data', 'management'], 'blood_pressure'), (['I', 'want', 'to', 'search', 'for', 'blood', 'pressure', 'result', 'history'], 'blood_pressure_search'), (['Blood', 'pressure', 'for', 'patient'], 'blood_pressure_search'), (['Load', 'patient', 'blood', 'pressure', 'result'], 'blood_pressure_search'), (['Show', 'blood', 'pressure', 'results', 'for', 'patient'], 'blood_pressure_search'), (['Find', 'blood', 'pressure', 'results', 'by', 'ID'], 'blood_pressure_search'), (['Find', 'me', 'a', 'pharmacy'], 'pharmacy_search'), (['Find', 'pharmacy'], 'pharmacy_search'), (['List', 'of', 'pharmacies', 'nearby'], 'pharmacy_search'), (['Locate', 'pharmacy'], 'pharmacy_search'), (['Search', 'pharmacy'], 'pharmacy_search'), (['Lookup', 'for', 'hospital'], 'hospital_search'), (['Searching', 'for', 'hospital', 'to', 'transfer', 'patient'], 'hospital_search'), (['I', 'want', 'to', 'search', 'hospital', 'data'], 'hospital_search'), (['Hospital', 'lookup', 'for', 'patient'], 'hospital_search'), (['Looking', 'up', 'hospital', 'details'], 'hospital_search')]\n",
      "['greeting', 'goodbye', 'thanks', 'options', 'adverse_drug', 'blood_pressure', 'blood_pressure_search', 'pharmacy_search', 'hospital_search']\n"
     ]
    }
   ],
   "source": [
    "for intent in intents['intents']:\n",
    "    for pattern in intent['patterns']:\n",
    "        w=nltk.word_tokenize(pattern)\n",
    "        words.extend(w)\n",
    "        documents.append((w,intent['tag']))\n",
    "        if intent['tag'] not in classes:\n",
    "            classes.append(intent['tag'])\n",
    "print(len(words))\n",
    "print(len(documents))\n",
    "print(len(classes))\n",
    "print(words)\n",
    "print(documents)        \n",
    "print(classes)"
   ]
  },
  {
   "cell_type": "code",
   "execution_count": 4,
   "id": "ae99c8e5",
   "metadata": {},
   "outputs": [
    {
     "name": "stdout",
     "output_type": "stream",
     "text": [
      "['hi', 'there', 'how', 'are', 'you', 'is', 'anyone', 'there', 'hey', 'hola', 'hello', 'good', 'day', 'bye', 'see', 'you', 'later', 'goodbye', 'nice', 'chatting', 'to', 'you', ',', 'bye', 'till', 'next', 'time', 'thanks', 'thank', 'you', 'that', \"'s\", 'helpful', 'awesome', ',', 'thanks', 'thanks', 'for', 'helping', 'me', 'how', 'you', 'could', 'help', 'me', 'what', 'you', 'can', 'do', 'what', 'help', 'you', 'provide', 'how', 'you', 'can', 'be', 'helpful', 'what', 'support', 'is', 'offered', 'how', 'to', 'check', 'adverse', 'drug', 'reaction', 'open', 'adverse', 'drug', 'module', 'give', 'me', 'a', 'list', 'of', 'drug', 'causing', 'adverse', 'behavior', 'list', 'all', 'drug', 'suitable', 'for', 'patient', 'with', 'adverse', 'reaction', 'which', 'drug', 'dont', 'have', 'adverse', 'reaction', 'open', 'blood', 'pressure', 'module', 'task', 'related', 'to', 'blood', 'pressure', 'blood', 'pressure', 'data', 'entry', 'i', 'want', 'to', 'log', 'blood', 'pressure', 'result', 'blood', 'pressure', 'data', 'management', 'i', 'want', 'to', 'search', 'for', 'blood', 'pressure', 'result', 'history', 'blood', 'pressure', 'for', 'patient', 'load', 'patient', 'blood', 'pressure', 'result', 'show', 'blood', 'pressure', 'result', 'for', 'patient', 'find', 'blood', 'pressure', 'result', 'by', 'id', 'find', 'me', 'a', 'pharmacy', 'find', 'pharmacy', 'list', 'of', 'pharmacy', 'nearby', 'locate', 'pharmacy', 'search', 'pharmacy', 'lookup', 'for', 'hospital', 'searching', 'for', 'hospital', 'to', 'transfer', 'patient', 'i', 'want', 'to', 'search', 'hospital', 'data', 'hospital', 'lookup', 'for', 'patient', 'looking', 'up', 'hospital', 'detail']\n",
      "187\n"
     ]
    }
   ],
   "source": [
    "words = [lemmatizer.lemmatize(w.lower()) for w in words if w not in ignore_words]\n",
    "print(words)\n",
    "print(len(words))"
   ]
  },
  {
   "cell_type": "code",
   "execution_count": 5,
   "id": "f2c384b4",
   "metadata": {},
   "outputs": [
    {
     "name": "stdout",
     "output_type": "stream",
     "text": [
      "88\n",
      "[\"'s\", ',', 'a', 'adverse', 'all', 'anyone', 'are', 'awesome', 'be', 'behavior', 'blood', 'by', 'bye', 'can', 'causing', 'chatting', 'check', 'could', 'data', 'day', 'detail', 'do', 'dont', 'drug', 'entry', 'find', 'for', 'give', 'good', 'goodbye', 'have', 'hello', 'help', 'helpful', 'helping', 'hey', 'hi', 'history', 'hola', 'hospital', 'how', 'i', 'id', 'is', 'later', 'list', 'load', 'locate', 'log', 'looking', 'lookup', 'management', 'me', 'module', 'nearby', 'next', 'nice', 'of', 'offered', 'open', 'patient', 'pharmacy', 'pressure', 'provide', 'reaction', 'related', 'result', 'search', 'searching', 'see', 'show', 'suitable', 'support', 'task', 'thank', 'thanks', 'that', 'there', 'till', 'time', 'to', 'transfer', 'up', 'want', 'what', 'which', 'with', 'you']\n"
     ]
    }
   ],
   "source": [
    "words=sorted(list(set(words)))\n",
    "print(len(words))\n",
    "print(words)"
   ]
  },
  {
   "cell_type": "code",
   "execution_count": 6,
   "id": "0b3dd933",
   "metadata": {},
   "outputs": [
    {
     "name": "stdout",
     "output_type": "stream",
     "text": [
      "9\n",
      "['adverse_drug', 'blood_pressure', 'blood_pressure_search', 'goodbye', 'greeting', 'hospital_search', 'options', 'pharmacy_search', 'thanks']\n"
     ]
    }
   ],
   "source": [
    "classes=sorted(list(set(classes)))\n",
    "print(len(classes))\n",
    "print(classes)"
   ]
  },
  {
   "cell_type": "code",
   "execution_count": 7,
   "id": "856b4177",
   "metadata": {},
   "outputs": [
    {
     "name": "stdout",
     "output_type": "stream",
     "text": [
      "47 documents\n",
      "9 classes ['adverse_drug', 'blood_pressure', 'blood_pressure_search', 'goodbye', 'greeting', 'hospital_search', 'options', 'pharmacy_search', 'thanks']\n",
      "88 unique lemmatized words [\"'s\", ',', 'a', 'adverse', 'all', 'anyone', 'are', 'awesome', 'be', 'behavior', 'blood', 'by', 'bye', 'can', 'causing', 'chatting', 'check', 'could', 'data', 'day', 'detail', 'do', 'dont', 'drug', 'entry', 'find', 'for', 'give', 'good', 'goodbye', 'have', 'hello', 'help', 'helpful', 'helping', 'hey', 'hi', 'history', 'hola', 'hospital', 'how', 'i', 'id', 'is', 'later', 'list', 'load', 'locate', 'log', 'looking', 'lookup', 'management', 'me', 'module', 'nearby', 'next', 'nice', 'of', 'offered', 'open', 'patient', 'pharmacy', 'pressure', 'provide', 'reaction', 'related', 'result', 'search', 'searching', 'see', 'show', 'suitable', 'support', 'task', 'thank', 'thanks', 'that', 'there', 'till', 'time', 'to', 'transfer', 'up', 'want', 'what', 'which', 'with', 'you']\n"
     ]
    }
   ],
   "source": [
    "print (len(documents), \"documents\")\n",
    "print (len(classes), \"classes\", classes)\n",
    "print (len(words), \"unique lemmatized words\", words)"
   ]
  },
  {
   "cell_type": "code",
   "execution_count": 8,
   "id": "40fa1925",
   "metadata": {},
   "outputs": [],
   "source": [
    "import pickle\n",
    "pickle.dump(words,open('words.pkl','wb'))\n",
    "pickle.dump(classes,open('classes.pkl','wb'))"
   ]
  },
  {
   "cell_type": "code",
   "execution_count": 9,
   "id": "b40d9192",
   "metadata": {},
   "outputs": [
    {
     "name": "stdout",
     "output_type": "stream",
     "text": [
      "[0, 0, 0, 0, 0, 0, 0, 0, 0]\n"
     ]
    }
   ],
   "source": [
    "training=[]\n",
    "output_empty=[0]*len(classes)\n",
    "print(output_empty)"
   ]
  },
  {
   "cell_type": "code",
   "execution_count": 10,
   "id": "1302bed2",
   "metadata": {},
   "outputs": [],
   "source": [
    "for doc in documents:\n",
    "    bag=[]\n",
    "    pattern_words=doc[0]\n",
    "    pattern_words=[lemmatizer.lemmatize(word.lower())  for word in pattern_words]\n",
    "    for w in words:\n",
    "        bag.append(1) if w in pattern_words else bag.append(0)\n",
    "    output_row=list(output_empty)\n",
    "    output_row[classes.index(doc[1])]=1\n",
    "    training.append([bag,output_row])\n",
    "#print(training)"
   ]
  },
  {
   "cell_type": "code",
   "execution_count": 11,
   "id": "61110f5b",
   "metadata": {},
   "outputs": [
    {
     "name": "stderr",
     "output_type": "stream",
     "text": [
      "C:\\Users\\Leya\\AppData\\Local\\Temp\\ipykernel_21716\\636025044.py:5: VisibleDeprecationWarning: Creating an ndarray from ragged nested sequences (which is a list-or-tuple of lists-or-tuples-or ndarrays with different lengths or shapes) is deprecated. If you meant to do this, you must specify 'dtype=object' when creating the ndarray.\n",
      "  training=np.array(training)\n"
     ]
    }
   ],
   "source": [
    "# convert to array,shuffle\n",
    "import numpy as np\n",
    "import random\n",
    "random.shuffle(training)\n",
    "training=np.array(training)\n",
    "#print(training)"
   ]
  },
  {
   "cell_type": "code",
   "execution_count": 12,
   "id": "98d90328",
   "metadata": {},
   "outputs": [
    {
     "name": "stdout",
     "output_type": "stream",
     "text": [
      "[[0, 0, 0, 0, 0, 0, 0, 0, 0, 0, 1, 1, 0, 0, 0, 0, 0, 0, 0, 0, 0, 0, 0, 0, 0, 1, 0, 0, 0, 0, 0, 0, 0, 0, 0, 0, 0, 0, 0, 0, 0, 0, 1, 0, 0, 0, 0, 0, 0, 0, 0, 0, 0, 0, 0, 0, 0, 0, 0, 0, 0, 0, 1, 0, 0, 0, 1, 0, 0, 0, 0, 0, 0, 0, 0, 0, 0, 0, 0, 0, 0, 0, 0, 0, 0, 0, 0, 0], [0, 0, 0, 1, 0, 0, 0, 0, 0, 0, 0, 0, 0, 0, 0, 0, 0, 0, 0, 0, 0, 0, 1, 1, 0, 0, 0, 0, 0, 0, 1, 0, 0, 0, 0, 0, 0, 0, 0, 0, 0, 0, 0, 0, 0, 0, 0, 0, 0, 0, 0, 0, 0, 0, 0, 0, 0, 0, 0, 0, 0, 0, 0, 0, 1, 0, 0, 0, 0, 0, 0, 0, 0, 0, 0, 0, 0, 0, 0, 0, 0, 0, 0, 0, 0, 1, 0, 0], [0, 0, 0, 0, 0, 0, 0, 0, 0, 0, 1, 0, 0, 0, 0, 0, 0, 0, 0, 0, 0, 0, 0, 0, 0, 0, 0, 0, 0, 0, 0, 0, 0, 0, 0, 0, 0, 0, 0, 0, 0, 1, 0, 0, 0, 0, 0, 0, 1, 0, 0, 0, 0, 0, 0, 0, 0, 0, 0, 0, 0, 0, 1, 0, 0, 0, 1, 0, 0, 0, 0, 0, 0, 0, 0, 0, 0, 0, 0, 0, 1, 0, 0, 1, 0, 0, 0, 0], [0, 0, 0, 0, 0, 0, 0, 0, 0, 0, 0, 0, 0, 0, 0, 0, 0, 0, 1, 0, 0, 0, 0, 0, 0, 0, 0, 0, 0, 0, 0, 0, 0, 0, 0, 0, 0, 0, 0, 1, 0, 1, 0, 0, 0, 0, 0, 0, 0, 0, 0, 0, 0, 0, 0, 0, 0, 0, 0, 0, 0, 0, 0, 0, 0, 0, 0, 1, 0, 0, 0, 0, 0, 0, 0, 0, 0, 0, 0, 0, 1, 0, 0, 1, 0, 0, 0, 0], [0, 1, 0, 0, 0, 0, 0, 1, 0, 0, 0, 0, 0, 0, 0, 0, 0, 0, 0, 0, 0, 0, 0, 0, 0, 0, 0, 0, 0, 0, 0, 0, 0, 0, 0, 0, 0, 0, 0, 0, 0, 0, 0, 0, 0, 0, 0, 0, 0, 0, 0, 0, 0, 0, 0, 0, 0, 0, 0, 0, 0, 0, 0, 0, 0, 0, 0, 0, 0, 0, 0, 0, 0, 0, 0, 1, 0, 0, 0, 0, 0, 0, 0, 0, 0, 0, 0, 0], [0, 0, 0, 0, 0, 0, 0, 0, 0, 0, 1, 0, 0, 0, 0, 0, 0, 0, 0, 0, 0, 0, 0, 0, 0, 0, 0, 0, 0, 0, 0, 0, 0, 0, 0, 0, 0, 0, 0, 0, 0, 0, 0, 0, 0, 0, 1, 0, 0, 0, 0, 0, 0, 0, 0, 0, 0, 0, 0, 0, 1, 0, 1, 0, 0, 0, 1, 0, 0, 0, 0, 0, 0, 0, 0, 0, 0, 0, 0, 0, 0, 0, 0, 0, 0, 0, 0, 0], [0, 0, 0, 0, 0, 0, 0, 0, 0, 0, 0, 0, 0, 0, 0, 0, 0, 0, 0, 0, 0, 0, 0, 0, 0, 0, 0, 0, 0, 0, 0, 1, 0, 0, 0, 0, 0, 0, 0, 0, 0, 0, 0, 0, 0, 0, 0, 0, 0, 0, 0, 0, 0, 0, 0, 0, 0, 0, 0, 0, 0, 0, 0, 0, 0, 0, 0, 0, 0, 0, 0, 0, 0, 0, 0, 0, 0, 0, 0, 0, 0, 0, 0, 0, 0, 0, 0, 0], [0, 0, 0, 0, 0, 0, 0, 0, 0, 0, 0, 0, 0, 0, 0, 0, 0, 0, 0, 0, 0, 0, 0, 0, 0, 0, 0, 0, 0, 0, 0, 0, 0, 0, 0, 1, 0, 0, 0, 0, 0, 0, 0, 0, 0, 0, 0, 0, 0, 0, 0, 0, 0, 0, 0, 0, 0, 0, 0, 0, 0, 0, 0, 0, 0, 0, 0, 0, 0, 0, 0, 0, 0, 0, 0, 0, 0, 0, 0, 0, 0, 0, 0, 0, 0, 0, 0, 0], [0, 0, 0, 1, 0, 0, 0, 0, 0, 0, 0, 0, 0, 0, 0, 0, 1, 0, 0, 0, 0, 0, 0, 1, 0, 0, 0, 0, 0, 0, 0, 0, 0, 0, 0, 0, 0, 0, 0, 0, 1, 0, 0, 0, 0, 0, 0, 0, 0, 0, 0, 0, 0, 0, 0, 0, 0, 0, 0, 0, 0, 0, 0, 0, 1, 0, 0, 0, 0, 0, 0, 0, 0, 0, 0, 0, 0, 0, 0, 0, 1, 0, 0, 0, 0, 0, 0, 0], [0, 0, 0, 0, 0, 0, 0, 0, 0, 0, 0, 0, 0, 0, 0, 0, 0, 0, 0, 0, 0, 0, 0, 0, 0, 0, 0, 0, 0, 1, 0, 0, 0, 0, 0, 0, 0, 0, 0, 0, 0, 0, 0, 0, 0, 0, 0, 0, 0, 0, 0, 0, 0, 0, 0, 0, 0, 0, 0, 0, 0, 0, 0, 0, 0, 0, 0, 0, 0, 0, 0, 0, 0, 0, 0, 0, 0, 0, 0, 0, 0, 0, 0, 0, 0, 0, 0, 0], [0, 0, 1, 0, 0, 0, 0, 0, 0, 0, 0, 0, 0, 0, 0, 0, 0, 0, 0, 0, 0, 0, 0, 0, 0, 1, 0, 0, 0, 0, 0, 0, 0, 0, 0, 0, 0, 0, 0, 0, 0, 0, 0, 0, 0, 0, 0, 0, 0, 0, 0, 0, 1, 0, 0, 0, 0, 0, 0, 0, 0, 1, 0, 0, 0, 0, 0, 0, 0, 0, 0, 0, 0, 0, 0, 0, 0, 0, 0, 0, 0, 0, 0, 0, 0, 0, 0, 0], [0, 0, 0, 0, 0, 0, 1, 0, 0, 0, 0, 0, 0, 0, 0, 0, 0, 0, 0, 0, 0, 0, 0, 0, 0, 0, 0, 0, 0, 0, 0, 0, 0, 0, 0, 0, 0, 0, 0, 0, 1, 0, 0, 0, 0, 0, 0, 0, 0, 0, 0, 0, 0, 0, 0, 0, 0, 0, 0, 0, 0, 0, 0, 0, 0, 0, 0, 0, 0, 0, 0, 0, 0, 0, 0, 0, 0, 0, 0, 0, 0, 0, 0, 0, 0, 0, 0, 1], [0, 0, 0, 0, 0, 0, 0, 0, 0, 0, 1, 0, 0, 0, 0, 0, 0, 0, 0, 0, 0, 0, 0, 0, 0, 0, 0, 0, 0, 0, 0, 0, 0, 0, 0, 0, 0, 0, 0, 0, 0, 0, 0, 0, 0, 0, 0, 0, 0, 0, 0, 0, 0, 0, 0, 0, 0, 0, 0, 0, 0, 0, 1, 0, 0, 1, 0, 0, 0, 0, 0, 0, 0, 1, 0, 0, 0, 0, 0, 0, 1, 0, 0, 0, 0, 0, 0, 0], [0, 0, 0, 0, 0, 0, 0, 0, 0, 0, 0, 0, 0, 1, 0, 0, 0, 0, 0, 0, 0, 1, 0, 0, 0, 0, 0, 0, 0, 0, 0, 0, 0, 0, 0, 0, 0, 0, 0, 0, 0, 0, 0, 0, 0, 0, 0, 0, 0, 0, 0, 0, 0, 0, 0, 0, 0, 0, 0, 0, 0, 0, 0, 0, 0, 0, 0, 0, 0, 0, 0, 0, 0, 0, 0, 0, 0, 0, 0, 0, 0, 0, 0, 0, 1, 0, 0, 1], [0, 0, 0, 0, 0, 0, 0, 0, 0, 0, 0, 0, 0, 0, 0, 0, 0, 0, 0, 0, 0, 0, 0, 0, 0, 0, 0, 0, 0, 0, 0, 0, 0, 0, 0, 0, 0, 0, 1, 0, 0, 0, 0, 0, 0, 0, 0, 0, 0, 0, 0, 0, 0, 0, 0, 0, 0, 0, 0, 0, 0, 0, 0, 0, 0, 0, 0, 0, 0, 0, 0, 0, 0, 0, 0, 0, 0, 0, 0, 0, 0, 0, 0, 0, 0, 0, 0, 0], [0, 0, 0, 0, 0, 0, 0, 0, 0, 0, 0, 0, 0, 0, 0, 0, 0, 0, 0, 0, 0, 0, 0, 0, 0, 0, 0, 0, 0, 0, 0, 0, 0, 0, 0, 0, 0, 0, 0, 0, 0, 0, 0, 0, 0, 1, 0, 0, 0, 0, 0, 0, 0, 0, 1, 0, 0, 1, 0, 0, 0, 1, 0, 0, 0, 0, 0, 0, 0, 0, 0, 0, 0, 0, 0, 0, 0, 0, 0, 0, 0, 0, 0, 0, 0, 0, 0, 0], [0, 0, 0, 0, 0, 0, 0, 0, 0, 0, 0, 0, 0, 0, 0, 0, 0, 0, 0, 0, 0, 0, 0, 0, 0, 0, 0, 0, 0, 0, 0, 0, 0, 0, 0, 0, 0, 0, 0, 0, 0, 0, 0, 0, 0, 0, 0, 0, 0, 0, 0, 0, 0, 0, 0, 0, 0, 0, 0, 0, 0, 0, 0, 0, 0, 0, 0, 0, 0, 0, 0, 0, 0, 0, 1, 0, 0, 0, 0, 0, 0, 0, 0, 0, 0, 0, 0, 1], [0, 0, 0, 0, 0, 0, 0, 0, 0, 0, 0, 0, 0, 0, 0, 0, 0, 0, 0, 0, 0, 0, 0, 0, 0, 0, 0, 0, 0, 0, 0, 0, 0, 0, 0, 0, 0, 0, 0, 0, 0, 0, 0, 0, 0, 0, 0, 0, 0, 0, 0, 0, 0, 0, 0, 1, 0, 0, 0, 0, 0, 0, 0, 0, 0, 0, 0, 0, 0, 0, 0, 0, 0, 0, 0, 0, 0, 0, 1, 1, 0, 0, 0, 0, 0, 0, 0, 0], [0, 0, 0, 0, 0, 0, 0, 0, 0, 0, 1, 0, 0, 0, 0, 0, 0, 0, 0, 0, 0, 0, 0, 0, 0, 0, 1, 0, 0, 0, 0, 0, 0, 0, 0, 0, 0, 1, 0, 0, 0, 1, 0, 0, 0, 0, 0, 0, 0, 0, 0, 0, 0, 0, 0, 0, 0, 0, 0, 0, 0, 0, 1, 0, 0, 0, 1, 1, 0, 0, 0, 0, 0, 0, 0, 0, 0, 0, 0, 0, 1, 0, 0, 1, 0, 0, 0, 0], [0, 0, 0, 0, 0, 0, 0, 0, 0, 0, 1, 0, 0, 0, 0, 0, 0, 0, 0, 0, 0, 0, 0, 0, 0, 0, 1, 0, 0, 0, 0, 0, 0, 0, 0, 0, 0, 0, 0, 0, 0, 0, 0, 0, 0, 0, 0, 0, 0, 0, 0, 0, 0, 0, 0, 0, 0, 0, 0, 0, 1, 0, 1, 0, 0, 0, 1, 0, 0, 0, 1, 0, 0, 0, 0, 0, 0, 0, 0, 0, 0, 0, 0, 0, 0, 0, 0, 0], [0, 0, 0, 0, 0, 0, 0, 0, 0, 0, 0, 0, 0, 0, 0, 0, 0, 1, 0, 0, 0, 0, 0, 0, 0, 0, 0, 0, 0, 0, 0, 0, 1, 0, 0, 0, 0, 0, 0, 0, 1, 0, 0, 0, 0, 0, 0, 0, 0, 0, 0, 0, 1, 0, 0, 0, 0, 0, 0, 0, 0, 0, 0, 0, 0, 0, 0, 0, 0, 0, 0, 0, 0, 0, 0, 0, 0, 0, 0, 0, 0, 0, 0, 0, 0, 0, 0, 1], [0, 0, 0, 0, 0, 0, 0, 0, 0, 0, 0, 0, 0, 0, 0, 0, 0, 0, 0, 0, 0, 0, 0, 0, 0, 0, 1, 0, 0, 0, 0, 0, 0, 0, 0, 0, 0, 0, 0, 1, 0, 0, 0, 0, 0, 0, 0, 0, 0, 0, 0, 0, 0, 0, 0, 0, 0, 0, 0, 0, 1, 0, 0, 0, 0, 0, 0, 0, 1, 0, 0, 0, 0, 0, 0, 0, 0, 0, 0, 0, 1, 1, 0, 0, 0, 0, 0, 0], [0, 0, 0, 0, 0, 0, 0, 0, 0, 0, 1, 0, 0, 0, 0, 0, 0, 0, 0, 0, 0, 0, 0, 0, 0, 0, 0, 0, 0, 0, 0, 0, 0, 0, 0, 0, 0, 0, 0, 0, 0, 0, 0, 0, 0, 0, 0, 0, 0, 0, 0, 0, 0, 1, 0, 0, 0, 0, 0, 1, 0, 0, 1, 0, 0, 0, 0, 0, 0, 0, 0, 0, 0, 0, 0, 0, 0, 0, 0, 0, 0, 0, 0, 0, 0, 0, 0, 0], [0, 0, 0, 0, 0, 0, 0, 0, 0, 0, 0, 0, 0, 0, 0, 0, 0, 0, 0, 0, 0, 0, 0, 0, 0, 0, 0, 0, 0, 0, 0, 0, 0, 0, 0, 0, 0, 0, 0, 0, 0, 0, 0, 0, 1, 0, 0, 0, 0, 0, 0, 0, 0, 0, 0, 0, 0, 0, 0, 0, 0, 0, 0, 0, 0, 0, 0, 0, 0, 1, 0, 0, 0, 0, 0, 0, 0, 0, 0, 0, 0, 0, 0, 0, 0, 0, 0, 1], [0, 0, 0, 0, 0, 0, 0, 0, 0, 0, 1, 0, 0, 0, 0, 0, 0, 0, 1, 0, 0, 0, 0, 0, 1, 0, 0, 0, 0, 0, 0, 0, 0, 0, 0, 0, 0, 0, 0, 0, 0, 0, 0, 0, 0, 0, 0, 0, 0, 0, 0, 0, 0, 0, 0, 0, 0, 0, 0, 0, 0, 0, 1, 0, 0, 0, 0, 0, 0, 0, 0, 0, 0, 0, 0, 0, 0, 0, 0, 0, 0, 0, 0, 0, 0, 0, 0, 0], [0, 0, 0, 0, 0, 0, 0, 0, 0, 0, 1, 0, 0, 0, 0, 0, 0, 0, 1, 0, 0, 0, 0, 0, 0, 0, 0, 0, 0, 0, 0, 0, 0, 0, 0, 0, 0, 0, 0, 0, 0, 0, 0, 0, 0, 0, 0, 0, 0, 0, 0, 1, 0, 0, 0, 0, 0, 0, 0, 0, 0, 0, 1, 0, 0, 0, 0, 0, 0, 0, 0, 0, 0, 0, 0, 0, 0, 0, 0, 0, 0, 0, 0, 0, 0, 0, 0, 0], [0, 0, 0, 0, 0, 0, 0, 0, 0, 0, 0, 0, 0, 0, 0, 0, 0, 0, 0, 0, 0, 0, 0, 0, 0, 0, 0, 0, 0, 0, 0, 0, 0, 0, 0, 0, 1, 0, 0, 0, 0, 0, 0, 0, 0, 0, 0, 0, 0, 0, 0, 0, 0, 0, 0, 0, 0, 0, 0, 0, 0, 0, 0, 0, 0, 0, 0, 0, 0, 0, 0, 0, 0, 0, 0, 0, 0, 1, 0, 0, 0, 0, 0, 0, 0, 0, 0, 0], [0, 0, 0, 0, 0, 0, 0, 0, 0, 0, 0, 0, 0, 0, 0, 0, 0, 0, 0, 0, 0, 0, 0, 0, 0, 0, 1, 0, 0, 0, 0, 0, 0, 0, 0, 0, 0, 0, 0, 1, 0, 0, 0, 0, 0, 0, 0, 0, 0, 0, 1, 0, 0, 0, 0, 0, 0, 0, 0, 0, 0, 0, 0, 0, 0, 0, 0, 0, 0, 0, 0, 0, 0, 0, 0, 0, 0, 0, 0, 0, 0, 0, 0, 0, 0, 0, 0, 0], [0, 1, 0, 0, 0, 0, 0, 0, 0, 0, 0, 0, 1, 0, 0, 1, 0, 0, 0, 0, 0, 0, 0, 0, 0, 0, 0, 0, 0, 0, 0, 0, 0, 0, 0, 0, 0, 0, 0, 0, 0, 0, 0, 0, 0, 0, 0, 0, 0, 0, 0, 0, 0, 0, 0, 0, 1, 0, 0, 0, 0, 0, 0, 0, 0, 0, 0, 0, 0, 0, 0, 0, 0, 0, 0, 0, 0, 0, 0, 0, 1, 0, 0, 0, 0, 0, 0, 1], [0, 0, 0, 0, 0, 0, 0, 0, 0, 0, 0, 0, 0, 0, 0, 0, 0, 0, 0, 0, 0, 0, 0, 0, 0, 0, 1, 0, 0, 0, 0, 0, 0, 0, 0, 0, 0, 0, 0, 1, 0, 0, 0, 0, 0, 0, 0, 0, 0, 0, 1, 0, 0, 0, 0, 0, 0, 0, 0, 0, 1, 0, 0, 0, 0, 0, 0, 0, 0, 0, 0, 0, 0, 0, 0, 0, 0, 0, 0, 0, 0, 0, 0, 0, 0, 0, 0, 0], [0, 0, 0, 1, 1, 0, 0, 0, 0, 0, 0, 0, 0, 0, 0, 0, 0, 0, 0, 0, 0, 0, 0, 1, 0, 0, 1, 0, 0, 0, 0, 0, 0, 0, 0, 0, 0, 0, 0, 0, 0, 0, 0, 0, 0, 1, 0, 0, 0, 0, 0, 0, 0, 0, 0, 0, 0, 0, 0, 0, 1, 0, 0, 0, 1, 0, 0, 0, 0, 0, 0, 1, 0, 0, 0, 0, 0, 0, 0, 0, 0, 0, 0, 0, 0, 0, 1, 0], [0, 0, 0, 0, 0, 0, 0, 0, 0, 0, 0, 0, 0, 0, 0, 0, 0, 0, 0, 0, 0, 0, 0, 0, 0, 0, 0, 0, 0, 0, 0, 0, 0, 0, 0, 0, 0, 0, 0, 0, 0, 0, 0, 1, 0, 0, 0, 0, 0, 0, 0, 0, 0, 0, 0, 0, 0, 0, 1, 0, 0, 0, 0, 0, 0, 0, 0, 0, 0, 0, 0, 0, 1, 0, 0, 0, 0, 0, 0, 0, 0, 0, 0, 0, 1, 0, 0, 0], [0, 0, 0, 0, 0, 0, 0, 0, 0, 0, 1, 0, 0, 0, 0, 0, 0, 0, 0, 0, 0, 0, 0, 0, 0, 0, 1, 0, 0, 0, 0, 0, 0, 0, 0, 0, 0, 0, 0, 0, 0, 0, 0, 0, 0, 0, 0, 0, 0, 0, 0, 0, 0, 0, 0, 0, 0, 0, 0, 0, 1, 0, 1, 0, 0, 0, 0, 0, 0, 0, 0, 0, 0, 0, 0, 0, 0, 0, 0, 0, 0, 0, 0, 0, 0, 0, 0, 0], [0, 0, 0, 0, 0, 0, 0, 0, 1, 0, 0, 0, 0, 1, 0, 0, 0, 0, 0, 0, 0, 0, 0, 0, 0, 0, 0, 0, 0, 0, 0, 0, 0, 1, 0, 0, 0, 0, 0, 0, 1, 0, 0, 0, 0, 0, 0, 0, 0, 0, 0, 0, 0, 0, 0, 0, 0, 0, 0, 0, 0, 0, 0, 0, 0, 0, 0, 0, 0, 0, 0, 0, 0, 0, 0, 0, 0, 0, 0, 0, 0, 0, 0, 0, 0, 0, 0, 1], [0, 0, 0, 0, 0, 0, 0, 0, 0, 0, 0, 0, 0, 0, 0, 0, 0, 0, 0, 0, 0, 0, 0, 0, 0, 0, 0, 0, 0, 0, 0, 0, 0, 0, 0, 0, 0, 0, 0, 0, 0, 0, 0, 0, 0, 0, 0, 0, 0, 0, 0, 0, 0, 0, 0, 0, 0, 0, 0, 0, 0, 1, 0, 0, 0, 0, 0, 1, 0, 0, 0, 0, 0, 0, 0, 0, 0, 0, 0, 0, 0, 0, 0, 0, 0, 0, 0, 0], [0, 0, 0, 0, 0, 0, 0, 0, 0, 0, 0, 0, 0, 0, 0, 0, 0, 0, 0, 0, 0, 0, 0, 0, 0, 0, 0, 0, 0, 0, 0, 0, 0, 0, 0, 0, 0, 0, 0, 0, 0, 0, 0, 0, 0, 0, 0, 0, 0, 0, 0, 0, 0, 0, 0, 0, 0, 0, 0, 0, 0, 0, 0, 0, 0, 0, 0, 0, 0, 0, 0, 0, 0, 0, 0, 1, 0, 0, 0, 0, 0, 0, 0, 0, 0, 0, 0, 0], [0, 0, 0, 0, 0, 0, 0, 0, 0, 0, 0, 0, 0, 0, 0, 0, 0, 0, 0, 0, 0, 0, 0, 0, 0, 0, 0, 0, 0, 0, 0, 0, 0, 0, 0, 0, 0, 0, 0, 0, 0, 0, 0, 0, 0, 0, 0, 1, 0, 0, 0, 0, 0, 0, 0, 0, 0, 0, 0, 0, 0, 1, 0, 0, 0, 0, 0, 0, 0, 0, 0, 0, 0, 0, 0, 0, 0, 0, 0, 0, 0, 0, 0, 0, 0, 0, 0, 0], [0, 0, 1, 1, 0, 0, 0, 0, 0, 1, 0, 0, 0, 0, 1, 0, 0, 0, 0, 0, 0, 0, 0, 1, 0, 0, 0, 1, 0, 0, 0, 0, 0, 0, 0, 0, 0, 0, 0, 0, 0, 0, 0, 0, 0, 1, 0, 0, 0, 0, 0, 0, 1, 0, 0, 0, 0, 1, 0, 0, 0, 0, 0, 0, 0, 0, 0, 0, 0, 0, 0, 0, 0, 0, 0, 0, 0, 0, 0, 0, 0, 0, 0, 0, 0, 0, 0, 0], [0, 0, 0, 0, 0, 0, 0, 0, 0, 0, 0, 0, 0, 0, 0, 0, 0, 0, 0, 0, 1, 0, 0, 0, 0, 0, 0, 0, 0, 0, 0, 0, 0, 0, 0, 0, 0, 0, 0, 1, 0, 0, 0, 0, 0, 0, 0, 0, 0, 1, 0, 0, 0, 0, 0, 0, 0, 0, 0, 0, 0, 0, 0, 0, 0, 0, 0, 0, 0, 0, 0, 0, 0, 0, 0, 0, 0, 0, 0, 0, 0, 0, 1, 0, 0, 0, 0, 0], [0, 0, 0, 1, 0, 0, 0, 0, 0, 0, 0, 0, 0, 0, 0, 0, 0, 0, 0, 0, 0, 0, 0, 1, 0, 0, 0, 0, 0, 0, 0, 0, 0, 0, 0, 0, 0, 0, 0, 0, 0, 0, 0, 0, 0, 0, 0, 0, 0, 0, 0, 0, 0, 1, 0, 0, 0, 0, 0, 1, 0, 0, 0, 0, 0, 0, 0, 0, 0, 0, 0, 0, 0, 0, 0, 0, 0, 0, 0, 0, 0, 0, 0, 0, 0, 0, 0, 0], [0, 0, 0, 0, 0, 0, 0, 0, 0, 0, 0, 0, 1, 0, 0, 0, 0, 0, 0, 0, 0, 0, 0, 0, 0, 0, 0, 0, 0, 0, 0, 0, 0, 0, 0, 0, 0, 0, 0, 0, 0, 0, 0, 0, 0, 0, 0, 0, 0, 0, 0, 0, 0, 0, 0, 0, 0, 0, 0, 0, 0, 0, 0, 0, 0, 0, 0, 0, 0, 0, 0, 0, 0, 0, 0, 0, 0, 0, 0, 0, 0, 0, 0, 0, 0, 0, 0, 0], [0, 0, 0, 0, 0, 0, 0, 0, 0, 0, 0, 0, 0, 0, 0, 0, 0, 0, 0, 0, 0, 0, 0, 0, 0, 0, 1, 0, 0, 0, 0, 0, 0, 0, 1, 0, 0, 0, 0, 0, 0, 0, 0, 0, 0, 0, 0, 0, 0, 0, 0, 0, 1, 0, 0, 0, 0, 0, 0, 0, 0, 0, 0, 0, 0, 0, 0, 0, 0, 0, 0, 0, 0, 0, 0, 1, 0, 0, 0, 0, 0, 0, 0, 0, 0, 0, 0, 0], [0, 0, 0, 0, 0, 0, 0, 0, 0, 0, 0, 0, 0, 0, 0, 0, 0, 0, 0, 0, 0, 0, 0, 0, 0, 0, 0, 0, 0, 0, 0, 0, 1, 0, 0, 0, 0, 0, 0, 0, 0, 0, 0, 0, 0, 0, 0, 0, 0, 0, 0, 0, 0, 0, 0, 0, 0, 0, 0, 0, 0, 0, 0, 1, 0, 0, 0, 0, 0, 0, 0, 0, 0, 0, 0, 0, 0, 0, 0, 0, 0, 0, 0, 0, 1, 0, 0, 1], [1, 0, 0, 0, 0, 0, 0, 0, 0, 0, 0, 0, 0, 0, 0, 0, 0, 0, 0, 0, 0, 0, 0, 0, 0, 0, 0, 0, 0, 0, 0, 0, 0, 1, 0, 0, 0, 0, 0, 0, 0, 0, 0, 0, 0, 0, 0, 0, 0, 0, 0, 0, 0, 0, 0, 0, 0, 0, 0, 0, 0, 0, 0, 0, 0, 0, 0, 0, 0, 0, 0, 0, 0, 0, 0, 0, 1, 0, 0, 0, 0, 0, 0, 0, 0, 0, 0, 0], [0, 0, 0, 0, 0, 0, 0, 0, 0, 0, 0, 0, 0, 0, 0, 0, 0, 0, 0, 1, 0, 0, 0, 0, 0, 0, 0, 0, 1, 0, 0, 0, 0, 0, 0, 0, 0, 0, 0, 0, 0, 0, 0, 0, 0, 0, 0, 0, 0, 0, 0, 0, 0, 0, 0, 0, 0, 0, 0, 0, 0, 0, 0, 0, 0, 0, 0, 0, 0, 0, 0, 0, 0, 0, 0, 0, 0, 0, 0, 0, 0, 0, 0, 0, 0, 0, 0, 0], [0, 0, 0, 0, 0, 1, 0, 0, 0, 0, 0, 0, 0, 0, 0, 0, 0, 0, 0, 0, 0, 0, 0, 0, 0, 0, 0, 0, 0, 0, 0, 0, 0, 0, 0, 0, 0, 0, 0, 0, 0, 0, 0, 1, 0, 0, 0, 0, 0, 0, 0, 0, 0, 0, 0, 0, 0, 0, 0, 0, 0, 0, 0, 0, 0, 0, 0, 0, 0, 0, 0, 0, 0, 0, 0, 0, 0, 1, 0, 0, 0, 0, 0, 0, 0, 0, 0, 0], [0, 0, 0, 0, 0, 0, 0, 0, 0, 0, 0, 0, 0, 0, 0, 0, 0, 0, 0, 0, 0, 0, 0, 0, 0, 1, 0, 0, 0, 0, 0, 0, 0, 0, 0, 0, 0, 0, 0, 0, 0, 0, 0, 0, 0, 0, 0, 0, 0, 0, 0, 0, 0, 0, 0, 0, 0, 0, 0, 0, 0, 1, 0, 0, 0, 0, 0, 0, 0, 0, 0, 0, 0, 0, 0, 0, 0, 0, 0, 0, 0, 0, 0, 0, 0, 0, 0, 0]]\n",
      "[[0, 0, 1, 0, 0, 0, 0, 0, 0], [1, 0, 0, 0, 0, 0, 0, 0, 0], [0, 1, 0, 0, 0, 0, 0, 0, 0], [0, 0, 0, 0, 0, 1, 0, 0, 0], [0, 0, 0, 0, 0, 0, 0, 0, 1], [0, 0, 1, 0, 0, 0, 0, 0, 0], [0, 0, 0, 0, 1, 0, 0, 0, 0], [0, 0, 0, 0, 1, 0, 0, 0, 0], [1, 0, 0, 0, 0, 0, 0, 0, 0], [0, 0, 0, 1, 0, 0, 0, 0, 0], [0, 0, 0, 0, 0, 0, 0, 1, 0], [0, 0, 0, 0, 1, 0, 0, 0, 0], [0, 1, 0, 0, 0, 0, 0, 0, 0], [0, 0, 0, 0, 0, 0, 1, 0, 0], [0, 0, 0, 0, 1, 0, 0, 0, 0], [0, 0, 0, 0, 0, 0, 0, 1, 0], [0, 0, 0, 0, 0, 0, 0, 0, 1], [0, 0, 0, 1, 0, 0, 0, 0, 0], [0, 0, 1, 0, 0, 0, 0, 0, 0], [0, 0, 1, 0, 0, 0, 0, 0, 0], [0, 0, 0, 0, 0, 0, 1, 0, 0], [0, 0, 0, 0, 0, 1, 0, 0, 0], [0, 1, 0, 0, 0, 0, 0, 0, 0], [0, 0, 0, 1, 0, 0, 0, 0, 0], [0, 1, 0, 0, 0, 0, 0, 0, 0], [0, 1, 0, 0, 0, 0, 0, 0, 0], [0, 0, 0, 0, 1, 0, 0, 0, 0], [0, 0, 0, 0, 0, 1, 0, 0, 0], [0, 0, 0, 1, 0, 0, 0, 0, 0], [0, 0, 0, 0, 0, 1, 0, 0, 0], [1, 0, 0, 0, 0, 0, 0, 0, 0], [0, 0, 0, 0, 0, 0, 1, 0, 0], [0, 0, 1, 0, 0, 0, 0, 0, 0], [0, 0, 0, 0, 0, 0, 1, 0, 0], [0, 0, 0, 0, 0, 0, 0, 1, 0], [0, 0, 0, 0, 0, 0, 0, 0, 1], [0, 0, 0, 0, 0, 0, 0, 1, 0], [1, 0, 0, 0, 0, 0, 0, 0, 0], [0, 0, 0, 0, 0, 1, 0, 0, 0], [1, 0, 0, 0, 0, 0, 0, 0, 0], [0, 0, 0, 1, 0, 0, 0, 0, 0], [0, 0, 0, 0, 0, 0, 0, 0, 1], [0, 0, 0, 0, 0, 0, 1, 0, 0], [0, 0, 0, 0, 0, 0, 0, 0, 1], [0, 0, 0, 0, 1, 0, 0, 0, 0], [0, 0, 0, 0, 1, 0, 0, 0, 0], [0, 0, 0, 0, 0, 0, 0, 1, 0]]\n"
     ]
    }
   ],
   "source": [
    "train_x=list(training[:,0])\n",
    "train_y=list(training[:,1])\n",
    "print(train_x)\n",
    "print(train_y)"
   ]
  },
  {
   "cell_type": "code",
   "execution_count": 13,
   "id": "89f1e365",
   "metadata": {},
   "outputs": [],
   "source": [
    "from keras.models import Sequential\n",
    "from keras.layers import Dense, Activation, Dropout\n",
    "from keras.optimizers import SGD\n",
    "model = Sequential()\n",
    "model.add(Dense(128, input_shape=(len(train_x[0]),),activation='relu'))\n",
    "model.add(Dropout(0.5))\n",
    "model.add(Dense(64, activation='relu'))\n",
    "model.add(Dropout(0.5))\n",
    "model.add(Dense(len(train_y[0]), activation='softmax'))"
   ]
  },
  {
   "cell_type": "code",
   "execution_count": 14,
   "id": "4ec2f00d",
   "metadata": {},
   "outputs": [
    {
     "name": "stdout",
     "output_type": "stream",
     "text": [
      "Epoch 1/200\n"
     ]
    },
    {
     "name": "stderr",
     "output_type": "stream",
     "text": [
      "C:\\Users\\Leya\\AppData\\Local\\Programs\\Python\\Python38\\lib\\site-packages\\keras\\optimizers\\optimizer_v2\\gradient_descent.py:108: UserWarning: The `lr` argument is deprecated, use `learning_rate` instead.\n",
      "  super(SGD, self).__init__(name, **kwargs)\n"
     ]
    },
    {
     "name": "stdout",
     "output_type": "stream",
     "text": [
      "10/10 [==============================] - 0s 657us/step - loss: 2.2000 - accuracy: 0.1702\n",
      "Epoch 2/200\n",
      "10/10 [==============================] - 0s 2ms/step - loss: 2.1711 - accuracy: 0.1702\n",
      "Epoch 3/200\n",
      "10/10 [==============================] - 0s 4ms/step - loss: 2.1261 - accuracy: 0.1489\n",
      "Epoch 4/200\n",
      "10/10 [==============================] - 0s 4ms/step - loss: 2.0520 - accuracy: 0.2553\n",
      "Epoch 5/200\n",
      "10/10 [==============================] - 0s 3ms/step - loss: 1.9385 - accuracy: 0.2979\n",
      "Epoch 6/200\n",
      "10/10 [==============================] - 0s 1ms/step - loss: 1.7916 - accuracy: 0.4043\n",
      "Epoch 7/200\n",
      "10/10 [==============================] - 0s 2ms/step - loss: 1.7147 - accuracy: 0.5745\n",
      "Epoch 8/200\n",
      "10/10 [==============================] - 0s 3ms/step - loss: 1.5400 - accuracy: 0.5957\n",
      "Epoch 9/200\n",
      "10/10 [==============================] - 0s 3ms/step - loss: 1.5098 - accuracy: 0.4894\n",
      "Epoch 10/200\n",
      "10/10 [==============================] - 0s 2ms/step - loss: 1.4113 - accuracy: 0.6596\n",
      "Epoch 11/200\n",
      "10/10 [==============================] - 0s 1ms/step - loss: 1.2224 - accuracy: 0.5957\n",
      "Epoch 12/200\n",
      "10/10 [==============================] - 0s 1ms/step - loss: 1.1928 - accuracy: 0.7021\n",
      "Epoch 13/200\n",
      "10/10 [==============================] - 0s 2ms/step - loss: 0.8843 - accuracy: 0.7447\n",
      "Epoch 14/200\n",
      "10/10 [==============================] - 0s 2ms/step - loss: 0.9255 - accuracy: 0.7872\n",
      "Epoch 15/200\n",
      "10/10 [==============================] - 0s 3ms/step - loss: 0.7433 - accuracy: 0.8723\n",
      "Epoch 16/200\n",
      "10/10 [==============================] - 0s 2ms/step - loss: 0.7210 - accuracy: 0.8511\n",
      "Epoch 17/200\n",
      "10/10 [==============================] - 0s 3ms/step - loss: 0.7680 - accuracy: 0.8085\n",
      "Epoch 18/200\n",
      "10/10 [==============================] - 0s 2ms/step - loss: 0.6017 - accuracy: 0.8085\n",
      "Epoch 19/200\n",
      "10/10 [==============================] - 0s 2ms/step - loss: 0.6314 - accuracy: 0.7872\n",
      "Epoch 20/200\n",
      "10/10 [==============================] - 0s 3ms/step - loss: 0.6989 - accuracy: 0.8511\n",
      "Epoch 21/200\n",
      "10/10 [==============================] - 0s 1ms/step - loss: 0.4370 - accuracy: 0.8936\n",
      "Epoch 22/200\n",
      "10/10 [==============================] - 0s 2ms/step - loss: 0.5048 - accuracy: 0.8511\n",
      "Epoch 23/200\n",
      "10/10 [==============================] - 0s 2ms/step - loss: 0.3700 - accuracy: 0.8723\n",
      "Epoch 24/200\n",
      "10/10 [==============================] - 0s 3ms/step - loss: 0.4663 - accuracy: 0.8511\n",
      "Epoch 25/200\n",
      "10/10 [==============================] - 0s 3ms/step - loss: 0.3462 - accuracy: 0.9149\n",
      "Epoch 26/200\n",
      "10/10 [==============================] - 0s 2ms/step - loss: 0.4270 - accuracy: 0.8936\n",
      "Epoch 27/200\n",
      "10/10 [==============================] - 0s 2ms/step - loss: 0.3697 - accuracy: 0.8723\n",
      "Epoch 28/200\n",
      "10/10 [==============================] - 0s 2ms/step - loss: 0.2575 - accuracy: 0.9574\n",
      "Epoch 29/200\n",
      "10/10 [==============================] - 0s 2ms/step - loss: 0.4325 - accuracy: 0.8511\n",
      "Epoch 30/200\n",
      "10/10 [==============================] - 0s 2ms/step - loss: 0.4596 - accuracy: 0.9149\n",
      "Epoch 31/200\n",
      "10/10 [==============================] - 0s 2ms/step - loss: 0.3223 - accuracy: 0.8936\n",
      "Epoch 32/200\n",
      "10/10 [==============================] - 0s 426us/step - loss: 0.2892 - accuracy: 0.9574\n",
      "Epoch 33/200\n",
      "10/10 [==============================] - 0s 3ms/step - loss: 0.2013 - accuracy: 0.9574\n",
      "Epoch 34/200\n",
      "10/10 [==============================] - 0s 56us/step - loss: 0.1952 - accuracy: 1.0000\n",
      "Epoch 35/200\n",
      "10/10 [==============================] - 0s 2ms/step - loss: 0.2056 - accuracy: 0.9362\n",
      "Epoch 36/200\n",
      "10/10 [==============================] - 0s 3ms/step - loss: 0.2486 - accuracy: 0.9787\n",
      "Epoch 37/200\n",
      "10/10 [==============================] - 0s 1ms/step - loss: 0.1769 - accuracy: 0.9574\n",
      "Epoch 38/200\n",
      "10/10 [==============================] - 0s 2ms/step - loss: 0.1281 - accuracy: 0.9787\n",
      "Epoch 39/200\n",
      "10/10 [==============================] - 0s 2ms/step - loss: 0.2061 - accuracy: 0.9149\n",
      "Epoch 40/200\n",
      "10/10 [==============================] - 0s 3ms/step - loss: 0.2361 - accuracy: 0.9362\n",
      "Epoch 41/200\n",
      "10/10 [==============================] - 0s 3ms/step - loss: 0.1318 - accuracy: 0.9787\n",
      "Epoch 42/200\n",
      "10/10 [==============================] - 0s 1ms/step - loss: 0.1956 - accuracy: 0.9574\n",
      "Epoch 43/200\n",
      "10/10 [==============================] - 0s 3ms/step - loss: 0.0861 - accuracy: 1.0000\n",
      "Epoch 44/200\n",
      "10/10 [==============================] - 0s 3ms/step - loss: 0.2334 - accuracy: 0.9149\n",
      "Epoch 45/200\n",
      "10/10 [==============================] - 0s 4ms/step - loss: 0.1208 - accuracy: 0.9787\n",
      "Epoch 46/200\n",
      "10/10 [==============================] - 0s 4ms/step - loss: 0.1686 - accuracy: 0.9574\n",
      "Epoch 47/200\n",
      "10/10 [==============================] - 0s 4ms/step - loss: 0.1788 - accuracy: 0.9362\n",
      "Epoch 48/200\n",
      "10/10 [==============================] - 0s 519us/step - loss: 0.1402 - accuracy: 0.9787\n",
      "Epoch 49/200\n",
      "10/10 [==============================] - 0s 3ms/step - loss: 0.0580 - accuracy: 1.0000\n",
      "Epoch 50/200\n",
      "10/10 [==============================] - 0s 4ms/step - loss: 0.1077 - accuracy: 0.9787\n",
      "Epoch 51/200\n",
      "10/10 [==============================] - 0s 2ms/step - loss: 0.1170 - accuracy: 0.9787\n",
      "Epoch 52/200\n",
      "10/10 [==============================] - 0s 2ms/step - loss: 0.1095 - accuracy: 1.0000\n",
      "Epoch 53/200\n",
      "10/10 [==============================] - 0s 2ms/step - loss: 0.1683 - accuracy: 0.9362\n",
      "Epoch 54/200\n",
      "10/10 [==============================] - 0s 4ms/step - loss: 0.0721 - accuracy: 1.0000\n",
      "Epoch 55/200\n",
      "10/10 [==============================] - 0s 1ms/step - loss: 0.0900 - accuracy: 0.9787\n",
      "Epoch 56/200\n",
      "10/10 [==============================] - 0s 778us/step - loss: 0.0620 - accuracy: 1.0000\n",
      "Epoch 57/200\n",
      "10/10 [==============================] - 0s 2ms/step - loss: 0.0764 - accuracy: 1.0000\n",
      "Epoch 58/200\n",
      "10/10 [==============================] - 0s 2ms/step - loss: 0.1630 - accuracy: 0.9574\n",
      "Epoch 59/200\n",
      "10/10 [==============================] - 0s 3ms/step - loss: 0.1790 - accuracy: 0.9574\n",
      "Epoch 60/200\n",
      "10/10 [==============================] - 0s 2ms/step - loss: 0.0545 - accuracy: 1.0000\n",
      "Epoch 61/200\n",
      "10/10 [==============================] - 0s 2ms/step - loss: 0.0752 - accuracy: 1.0000\n",
      "Epoch 62/200\n",
      "10/10 [==============================] - 0s 2ms/step - loss: 0.0605 - accuracy: 1.0000\n",
      "Epoch 63/200\n",
      "10/10 [==============================] - 0s 4ms/step - loss: 0.0708 - accuracy: 1.0000\n",
      "Epoch 64/200\n",
      "10/10 [==============================] - 0s 2ms/step - loss: 0.0382 - accuracy: 1.0000\n",
      "Epoch 65/200\n",
      "10/10 [==============================] - 0s 2ms/step - loss: 0.0614 - accuracy: 1.0000\n",
      "Epoch 66/200\n",
      "10/10 [==============================] - 0s 2ms/step - loss: 0.0337 - accuracy: 1.0000\n",
      "Epoch 67/200\n",
      "10/10 [==============================] - 0s 2ms/step - loss: 0.0502 - accuracy: 1.0000\n",
      "Epoch 68/200\n",
      "10/10 [==============================] - 0s 2ms/step - loss: 0.1057 - accuracy: 0.9787\n",
      "Epoch 69/200\n",
      "10/10 [==============================] - 0s 2ms/step - loss: 0.0893 - accuracy: 1.0000\n",
      "Epoch 70/200\n",
      "10/10 [==============================] - 0s 2ms/step - loss: 0.0831 - accuracy: 0.9787\n",
      "Epoch 71/200\n",
      "10/10 [==============================] - 0s 4ms/step - loss: 0.0662 - accuracy: 0.9787\n",
      "Epoch 72/200\n",
      "10/10 [==============================] - 0s 2ms/step - loss: 0.0880 - accuracy: 0.9787\n",
      "Epoch 73/200\n",
      "10/10 [==============================] - 0s 2ms/step - loss: 0.0305 - accuracy: 1.0000\n",
      "Epoch 74/200\n",
      "10/10 [==============================] - 0s 2ms/step - loss: 0.0823 - accuracy: 0.9574\n",
      "Epoch 75/200\n",
      "10/10 [==============================] - 0s 3ms/step - loss: 0.0211 - accuracy: 1.0000\n",
      "Epoch 76/200\n",
      "10/10 [==============================] - 0s 2ms/step - loss: 0.0590 - accuracy: 1.0000\n",
      "Epoch 77/200\n",
      "10/10 [==============================] - 0s 2ms/step - loss: 0.0525 - accuracy: 1.0000\n",
      "Epoch 78/200\n",
      "10/10 [==============================] - 0s 3ms/step - loss: 0.0176 - accuracy: 1.0000\n",
      "Epoch 79/200\n",
      "10/10 [==============================] - 0s 2ms/step - loss: 0.0386 - accuracy: 1.0000\n",
      "Epoch 80/200\n",
      "10/10 [==============================] - 0s 2ms/step - loss: 0.0883 - accuracy: 0.9787\n",
      "Epoch 81/200\n",
      "10/10 [==============================] - 0s 2ms/step - loss: 0.0473 - accuracy: 1.0000\n",
      "Epoch 82/200\n",
      "10/10 [==============================] - 0s 2ms/step - loss: 0.0281 - accuracy: 1.0000\n",
      "Epoch 83/200\n"
     ]
    },
    {
     "name": "stdout",
     "output_type": "stream",
     "text": [
      "10/10 [==============================] - 0s 3ms/step - loss: 0.0592 - accuracy: 0.9787\n",
      "Epoch 84/200\n",
      "10/10 [==============================] - 0s 58us/step - loss: 0.0221 - accuracy: 1.0000\n",
      "Epoch 85/200\n",
      "10/10 [==============================] - 0s 2ms/step - loss: 0.0839 - accuracy: 0.9787\n",
      "Epoch 86/200\n",
      "10/10 [==============================] - 0s 2ms/step - loss: 0.0556 - accuracy: 0.9787\n",
      "Epoch 87/200\n",
      "10/10 [==============================] - 0s 2ms/step - loss: 0.0562 - accuracy: 1.0000\n",
      "Epoch 88/200\n",
      "10/10 [==============================] - 0s 3ms/step - loss: 0.0121 - accuracy: 1.0000\n",
      "Epoch 89/200\n",
      "10/10 [==============================] - 0s 2ms/step - loss: 0.0203 - accuracy: 1.0000\n",
      "Epoch 90/200\n",
      "10/10 [==============================] - 0s 2ms/step - loss: 0.0292 - accuracy: 1.0000\n",
      "Epoch 91/200\n",
      "10/10 [==============================] - 0s 2ms/step - loss: 0.0549 - accuracy: 0.9787\n",
      "Epoch 92/200\n",
      "10/10 [==============================] - 0s 1ms/step - loss: 0.0511 - accuracy: 1.0000\n",
      "Epoch 93/200\n",
      "10/10 [==============================] - 0s 2ms/step - loss: 0.0760 - accuracy: 0.9787\n",
      "Epoch 94/200\n",
      "10/10 [==============================] - 0s 1ms/step - loss: 0.0293 - accuracy: 1.0000\n",
      "Epoch 95/200\n",
      "10/10 [==============================] - 0s 2ms/step - loss: 0.0244 - accuracy: 1.0000\n",
      "Epoch 96/200\n",
      "10/10 [==============================] - 0s 2ms/step - loss: 0.0569 - accuracy: 0.9787\n",
      "Epoch 97/200\n",
      "10/10 [==============================] - 0s 2ms/step - loss: 0.0231 - accuracy: 1.0000\n",
      "Epoch 98/200\n",
      "10/10 [==============================] - 0s 2ms/step - loss: 0.0726 - accuracy: 0.9787\n",
      "Epoch 99/200\n",
      "10/10 [==============================] - 0s 2ms/step - loss: 0.0266 - accuracy: 1.0000\n",
      "Epoch 100/200\n",
      "10/10 [==============================] - 0s 322us/step - loss: 0.0337 - accuracy: 1.0000\n",
      "Epoch 101/200\n",
      "10/10 [==============================] - 0s 2ms/step - loss: 0.0322 - accuracy: 1.0000\n",
      "Epoch 102/200\n",
      "10/10 [==============================] - 0s 2ms/step - loss: 0.0945 - accuracy: 0.9574\n",
      "Epoch 103/200\n",
      "10/10 [==============================] - 0s 3ms/step - loss: 0.0466 - accuracy: 0.9787\n",
      "Epoch 104/200\n",
      "10/10 [==============================] - 0s 2ms/step - loss: 0.0147 - accuracy: 1.0000\n",
      "Epoch 105/200\n",
      "10/10 [==============================] - 0s 2ms/step - loss: 0.0176 - accuracy: 1.0000\n",
      "Epoch 106/200\n",
      "10/10 [==============================] - 0s 3ms/step - loss: 0.0170 - accuracy: 1.0000\n",
      "Epoch 107/200\n",
      "10/10 [==============================] - 0s 2ms/step - loss: 0.0366 - accuracy: 1.0000\n",
      "Epoch 108/200\n",
      "10/10 [==============================] - 0s 2ms/step - loss: 0.0599 - accuracy: 1.0000\n",
      "Epoch 109/200\n",
      "10/10 [==============================] - 0s 2ms/step - loss: 0.0478 - accuracy: 0.9787\n",
      "Epoch 110/200\n",
      "10/10 [==============================] - 0s 2ms/step - loss: 0.0211 - accuracy: 1.0000\n",
      "Epoch 111/200\n",
      "10/10 [==============================] - 0s 1ms/step - loss: 0.0515 - accuracy: 0.9787\n",
      "Epoch 112/200\n",
      "10/10 [==============================] - 0s 824us/step - loss: 0.0422 - accuracy: 1.0000\n",
      "Epoch 113/200\n",
      "10/10 [==============================] - 0s 2ms/step - loss: 0.0305 - accuracy: 1.0000\n",
      "Epoch 114/200\n",
      "10/10 [==============================] - 0s 2ms/step - loss: 0.0516 - accuracy: 1.0000\n",
      "Epoch 115/200\n",
      "10/10 [==============================] - 0s 3ms/step - loss: 0.0392 - accuracy: 1.0000\n",
      "Epoch 116/200\n",
      "10/10 [==============================] - 0s 2ms/step - loss: 0.0093 - accuracy: 1.0000\n",
      "Epoch 117/200\n",
      "10/10 [==============================] - 0s 2ms/step - loss: 0.0131 - accuracy: 1.0000\n",
      "Epoch 118/200\n",
      "10/10 [==============================] - 0s 2ms/step - loss: 0.0121 - accuracy: 1.0000\n",
      "Epoch 119/200\n",
      "10/10 [==============================] - 0s 2ms/step - loss: 0.0583 - accuracy: 0.9787\n",
      "Epoch 120/200\n",
      "10/10 [==============================] - 0s 362us/step - loss: 0.0376 - accuracy: 1.0000\n",
      "Epoch 121/200\n",
      "10/10 [==============================] - 0s 2ms/step - loss: 0.0324 - accuracy: 1.0000\n",
      "Epoch 122/200\n",
      "10/10 [==============================] - 0s 2ms/step - loss: 0.0542 - accuracy: 1.0000\n",
      "Epoch 123/200\n",
      "10/10 [==============================] - 0s 3ms/step - loss: 0.0402 - accuracy: 0.9787\n",
      "Epoch 124/200\n",
      "10/10 [==============================] - 0s 2ms/step - loss: 0.0329 - accuracy: 1.0000\n",
      "Epoch 125/200\n",
      "10/10 [==============================] - 0s 4ms/step - loss: 0.0278 - accuracy: 1.0000\n",
      "Epoch 126/200\n",
      "10/10 [==============================] - 0s 2ms/step - loss: 0.0495 - accuracy: 1.0000\n",
      "Epoch 127/200\n",
      "10/10 [==============================] - 0s 2ms/step - loss: 0.0343 - accuracy: 1.0000\n",
      "Epoch 128/200\n",
      "10/10 [==============================] - 0s 2ms/step - loss: 0.0603 - accuracy: 0.9787\n",
      "Epoch 129/200\n",
      "10/10 [==============================] - 0s 709us/step - loss: 0.0399 - accuracy: 1.0000\n",
      "Epoch 130/200\n",
      "10/10 [==============================] - 0s 2ms/step - loss: 0.0148 - accuracy: 1.0000\n",
      "Epoch 131/200\n",
      "10/10 [==============================] - 0s 2ms/step - loss: 0.0355 - accuracy: 0.9787\n",
      "Epoch 132/200\n",
      "10/10 [==============================] - 0s 2ms/step - loss: 0.0131 - accuracy: 1.0000\n",
      "Epoch 133/200\n",
      "10/10 [==============================] - 0s 3ms/step - loss: 0.0177 - accuracy: 1.0000\n",
      "Epoch 134/200\n",
      "10/10 [==============================] - 0s 3ms/step - loss: 0.0520 - accuracy: 0.9787\n",
      "Epoch 135/200\n",
      "10/10 [==============================] - 0s 2ms/step - loss: 0.0281 - accuracy: 1.0000\n",
      "Epoch 136/200\n",
      "10/10 [==============================] - 0s 2ms/step - loss: 0.0024 - accuracy: 1.0000\n",
      "Epoch 137/200\n",
      "10/10 [==============================] - 0s 2ms/step - loss: 0.0137 - accuracy: 1.0000\n",
      "Epoch 138/200\n",
      "10/10 [==============================] - 0s 2ms/step - loss: 0.0123 - accuracy: 1.0000\n",
      "Epoch 139/200\n",
      "10/10 [==============================] - 0s 2ms/step - loss: 0.0100 - accuracy: 1.0000\n",
      "Epoch 140/200\n",
      "10/10 [==============================] - 0s 2ms/step - loss: 0.0509 - accuracy: 0.9787\n",
      "Epoch 141/200\n",
      "10/10 [==============================] - 0s 2ms/step - loss: 0.0251 - accuracy: 1.0000\n",
      "Epoch 142/200\n",
      "10/10 [==============================] - 0s 1ms/step - loss: 0.0457 - accuracy: 0.9787\n",
      "Epoch 143/200\n",
      "10/10 [==============================] - 0s 410us/step - loss: 0.0447 - accuracy: 1.0000\n",
      "Epoch 144/200\n",
      "10/10 [==============================] - 0s 2ms/step - loss: 0.0880 - accuracy: 0.9787\n",
      "Epoch 145/200\n",
      "10/10 [==============================] - 0s 2ms/step - loss: 0.0345 - accuracy: 1.0000\n",
      "Epoch 146/200\n",
      "10/10 [==============================] - 0s 2ms/step - loss: 0.0114 - accuracy: 1.0000\n",
      "Epoch 147/200\n",
      "10/10 [==============================] - 0s 3ms/step - loss: 0.0401 - accuracy: 0.9787\n",
      "Epoch 148/200\n",
      "10/10 [==============================] - 0s 2ms/step - loss: 0.0455 - accuracy: 1.0000\n",
      "Epoch 149/200\n",
      "10/10 [==============================] - 0s 2ms/step - loss: 0.0481 - accuracy: 0.9574\n",
      "Epoch 150/200\n",
      "10/10 [==============================] - 0s 2ms/step - loss: 0.0042 - accuracy: 1.0000\n",
      "Epoch 151/200\n",
      "10/10 [==============================] - 0s 3ms/step - loss: 0.0180 - accuracy: 1.0000\n",
      "Epoch 152/200\n",
      "10/10 [==============================] - 0s 2ms/step - loss: 0.0351 - accuracy: 1.0000\n",
      "Epoch 153/200\n",
      "10/10 [==============================] - 0s 49us/step - loss: 0.0079 - accuracy: 1.0000\n",
      "Epoch 154/200\n",
      "10/10 [==============================] - 0s 2ms/step - loss: 0.0415 - accuracy: 1.0000\n",
      "Epoch 155/200\n",
      "10/10 [==============================] - 0s 3ms/step - loss: 0.0195 - accuracy: 1.0000\n",
      "Epoch 156/200\n",
      "10/10 [==============================] - 0s 2ms/step - loss: 0.0254 - accuracy: 1.0000\n",
      "Epoch 157/200\n",
      "10/10 [==============================] - 0s 2ms/step - loss: 0.0219 - accuracy: 1.0000\n",
      "Epoch 158/200\n",
      "10/10 [==============================] - 0s 2ms/step - loss: 0.0042 - accuracy: 1.0000\n",
      "Epoch 159/200\n",
      "10/10 [==============================] - 0s 2ms/step - loss: 0.0138 - accuracy: 1.0000\n",
      "Epoch 160/200\n",
      "10/10 [==============================] - 0s 2ms/step - loss: 0.0031 - accuracy: 1.0000\n",
      "Epoch 161/200\n",
      "10/10 [==============================] - 0s 2ms/step - loss: 0.0355 - accuracy: 0.9787\n",
      "Epoch 162/200\n",
      "10/10 [==============================] - 0s 2ms/step - loss: 0.0603 - accuracy: 0.9787\n",
      "Epoch 163/200\n",
      "10/10 [==============================] - 0s 2ms/step - loss: 0.0087 - accuracy: 1.0000\n",
      "Epoch 164/200\n"
     ]
    },
    {
     "name": "stdout",
     "output_type": "stream",
     "text": [
      "10/10 [==============================] - 0s 3ms/step - loss: 0.0119 - accuracy: 1.0000\n",
      "Epoch 165/200\n",
      "10/10 [==============================] - 0s 2ms/step - loss: 0.0192 - accuracy: 1.0000\n",
      "Epoch 166/200\n",
      "10/10 [==============================] - 0s 2ms/step - loss: 0.0272 - accuracy: 1.0000\n",
      "Epoch 167/200\n",
      "10/10 [==============================] - 0s 0s/step - loss: 0.0138 - accuracy: 1.0000\n",
      "Epoch 168/200\n",
      "10/10 [==============================] - 0s 754us/step - loss: 0.0475 - accuracy: 0.9787\n",
      "Epoch 169/200\n",
      "10/10 [==============================] - 0s 2ms/step - loss: 0.0148 - accuracy: 1.0000\n",
      "Epoch 170/200\n",
      "10/10 [==============================] - 0s 2ms/step - loss: 0.0125 - accuracy: 1.0000\n",
      "Epoch 171/200\n",
      "10/10 [==============================] - 0s 2ms/step - loss: 0.0093 - accuracy: 1.0000\n",
      "Epoch 172/200\n",
      "10/10 [==============================] - 0s 2ms/step - loss: 0.0400 - accuracy: 0.9787\n",
      "Epoch 173/200\n",
      "10/10 [==============================] - 0s 2ms/step - loss: 0.0410 - accuracy: 0.9787\n",
      "Epoch 174/200\n",
      "10/10 [==============================] - 0s 2ms/step - loss: 0.0043 - accuracy: 1.0000\n",
      "Epoch 175/200\n",
      "10/10 [==============================] - 0s 2ms/step - loss: 0.0353 - accuracy: 1.0000\n",
      "Epoch 176/200\n",
      "10/10 [==============================] - 0s 2ms/step - loss: 0.0272 - accuracy: 1.0000\n",
      "Epoch 177/200\n",
      "10/10 [==============================] - 0s 2ms/step - loss: 0.0317 - accuracy: 1.0000\n",
      "Epoch 178/200\n",
      "10/10 [==============================] - 0s 2ms/step - loss: 0.0065 - accuracy: 1.0000\n",
      "Epoch 179/200\n",
      "10/10 [==============================] - 0s 2ms/step - loss: 0.0062 - accuracy: 1.0000\n",
      "Epoch 180/200\n",
      "10/10 [==============================] - 0s 2ms/step - loss: 0.0157 - accuracy: 1.0000\n",
      "Epoch 181/200\n",
      "10/10 [==============================] - 0s 2ms/step - loss: 0.0141 - accuracy: 1.0000\n",
      "Epoch 182/200\n",
      "10/10 [==============================] - 0s 2ms/step - loss: 0.0338 - accuracy: 1.0000\n",
      "Epoch 183/200\n",
      "10/10 [==============================] - 0s 2ms/step - loss: 0.0234 - accuracy: 1.0000\n",
      "Epoch 184/200\n",
      "10/10 [==============================] - 0s 2ms/step - loss: 0.0092 - accuracy: 1.0000\n",
      "Epoch 185/200\n",
      "10/10 [==============================] - 0s 2ms/step - loss: 0.0152 - accuracy: 1.0000\n",
      "Epoch 186/200\n",
      "10/10 [==============================] - 0s 2ms/step - loss: 0.0238 - accuracy: 1.0000\n",
      "Epoch 187/200\n",
      "10/10 [==============================] - 0s 2ms/step - loss: 0.0111 - accuracy: 1.0000\n",
      "Epoch 188/200\n",
      "10/10 [==============================] - 0s 2ms/step - loss: 0.0825 - accuracy: 0.9574\n",
      "Epoch 189/200\n",
      "10/10 [==============================] - 0s 2ms/step - loss: 0.0273 - accuracy: 0.9787\n",
      "Epoch 190/200\n",
      "10/10 [==============================] - 0s 2ms/step - loss: 0.0149 - accuracy: 1.0000\n",
      "Epoch 191/200\n",
      "10/10 [==============================] - 0s 2ms/step - loss: 0.0102 - accuracy: 1.0000\n",
      "Epoch 192/200\n",
      "10/10 [==============================] - 0s 2ms/step - loss: 0.0570 - accuracy: 0.9787\n",
      "Epoch 193/200\n",
      "10/10 [==============================] - 0s 937us/step - loss: 0.0156 - accuracy: 1.0000\n",
      "Epoch 194/200\n",
      "10/10 [==============================] - 0s 2ms/step - loss: 0.0087 - accuracy: 1.0000\n",
      "Epoch 195/200\n",
      "10/10 [==============================] - 0s 813us/step - loss: 0.0269 - accuracy: 0.9787\n",
      "Epoch 196/200\n",
      "10/10 [==============================] - 0s 545us/step - loss: 0.0271 - accuracy: 1.0000\n",
      "Epoch 197/200\n",
      "10/10 [==============================] - 0s 2ms/step - loss: 0.0235 - accuracy: 1.0000\n",
      "Epoch 198/200\n",
      "10/10 [==============================] - 0s 2ms/step - loss: 0.0375 - accuracy: 1.0000\n",
      "Epoch 199/200\n",
      "10/10 [==============================] - 0s 2ms/step - loss: 6.9738e-04 - accuracy: 1.0000\n",
      "Epoch 200/200\n",
      "10/10 [==============================] - 0s 0s/step - loss: 0.0320 - accuracy: 1.0000\n",
      "model created\n"
     ]
    }
   ],
   "source": [
    "sgd = SGD(lr=0.01, decay=1e-6, momentum=0.9, nesterov=True)\n",
    "model.compile(loss='categorical_crossentropy', optimizer=sgd, metrics=['accuracy'])\n",
    "hist = model.fit(np.array(train_x), np.array(train_y), epochs=200, batch_size=5, verbose=1)\n",
    "model.save('chatbot_model.h5',hist)\n",
    "print('model created')"
   ]
  },
  {
   "cell_type": "code",
   "execution_count": 15,
   "id": "e6d26568",
   "metadata": {},
   "outputs": [],
   "source": [
    "from keras.models import load_model\n",
    "import json\n",
    "import pickle\n",
    "model=load_model('chatbot_model.h5')"
   ]
  },
  {
   "cell_type": "code",
   "execution_count": 16,
   "id": "4d541382",
   "metadata": {},
   "outputs": [],
   "source": [
    "intents = json.loads(open('C:\\\\Users\\\\Leya\\\\Downloads\\\\intents.json').read())\n",
    "words = pickle.load(open('words.pkl','rb'))\n",
    "classes = pickle.load(open('classes.pkl','rb'))"
   ]
  },
  {
   "cell_type": "code",
   "execution_count": 17,
   "id": "78e0c6d1",
   "metadata": {},
   "outputs": [],
   "source": [
    "import numpy as np\n",
    "import random\n",
    "import nltk\n",
    "from nltk.stem import WordNetLemmatizer\n",
    "lemmatizer = WordNetLemmatizer()"
   ]
  },
  {
   "cell_type": "code",
   "execution_count": 18,
   "id": "b922d100",
   "metadata": {},
   "outputs": [],
   "source": [
    "def clean_up_sentence(sentence):\n",
    "    sentence_words=nltk.word_tokenize(sentence)\n",
    "    sentence_words = [lemmatizer.lemmatize(word.lower()) for word in sentence_words]\n",
    "    return sentence_words\n",
    "def bow(sentence,words,show_details=True):\n",
    "    sentence_words=clean_up_sentence(sentence)\n",
    "    bag=[0]*len(words)\n",
    "    for s in sentence_words:\n",
    "        for i,w in enumerate(words):\n",
    "            if w==s:\n",
    "                bag[i]=1\n",
    "                if show_details:\n",
    "                    print(\"found in bag :%s\"%w)\n",
    "    return (np.array(bag))\n",
    "def predict_class(sentence,model):\n",
    "    p=bow(sentence,words,show_details=False)\n",
    "    res=model.predict(np.array([p]))[0]\n",
    "    ERROR_THRESHOLD = 0.25\n",
    "    results=[[i,r] for i,r in enumerate(res) if r>ERROR_THRESHOLD]\n",
    "    results.sort(key=lambda x:x[1],reverse=True)\n",
    "    return_list=[]\n",
    "    for r in results:\n",
    "        return_list.append({'intent':classes[r[0]],'probability':str(r[1])})\n",
    "    return return_list"
   ]
  },
  {
   "cell_type": "code",
   "execution_count": 19,
   "id": "5f12314a",
   "metadata": {},
   "outputs": [],
   "source": [
    "def getResponse(ints,intents_json):\n",
    "    tag=ints[0]['intent']\n",
    "    list_of_intents=intents_json['intents']\n",
    "    for i in list_of_intents:\n",
    "        if (i['tag']==tag):\n",
    "            result=random.choice(i['responses'])\n",
    "            break\n",
    "    return result"
   ]
  },
  {
   "cell_type": "code",
   "execution_count": 20,
   "id": "700a0d3c",
   "metadata": {},
   "outputs": [],
   "source": [
    "def chatbot_response(msg):\n",
    "    ints=predict_class(msg,model)\n",
    "    res=getResponse(ints,intents)\n",
    "    return res"
   ]
  },
  {
   "cell_type": "code",
   "execution_count": 21,
   "id": "8a940227",
   "metadata": {},
   "outputs": [
    {
     "name": "stdout",
     "output_type": "stream",
     "text": [
      "1/1 [==============================] - 0s 78ms/step\n"
     ]
    },
    {
     "data": {
      "text/plain": [
       "'Good to see you again'"
      ]
     },
     "execution_count": 21,
     "metadata": {},
     "output_type": "execute_result"
    }
   ],
   "source": [
    "chatbot_response('how are you')"
   ]
  },
  {
   "cell_type": "code",
   "execution_count": 22,
   "id": "f6283555",
   "metadata": {},
   "outputs": [],
   "source": [
    "import tkinter"
   ]
  },
  {
   "cell_type": "code",
   "execution_count": null,
   "id": "e2bf1a06",
   "metadata": {},
   "outputs": [
    {
     "name": "stdout",
     "output_type": "stream",
     "text": [
      "1/1 [==============================] - 0s 16ms/step\n"
     ]
    }
   ],
   "source": [
    "import tkinter\n",
    "from tkinter import *\n",
    "def send():\n",
    "    msg= EntryBox.get('1.0','end-1c').strip()\n",
    "    EntryBox.delete('0.0',END)\n",
    "    if msg !='':\n",
    "        ChatLog.config(state=NORMAL)\n",
    "        ChatLog.insert(END,'You : '+msg+'\\n\\n')\n",
    "        ChatLog.config(foreground='#442565',font=('Verdana',12))\n",
    "        res=chatbot_response(msg)\n",
    "        ChatLog.insert(END,'Bot :'+res+'\\n\\n')\n",
    "       \n",
    "       \n",
    "        ChatLog.config(state=DISABLED)\n",
    "        ChatLog.yview(END)\n",
    "       \n",
    "base=Tk()\n",
    "base.title('Talk with me')\n",
    "base.geometry(\"400x500\")\n",
    "base.resizable(width=FALSE,height=False)\n",
    "ChatLog = Text(base, bd=0, bg=\"white\", height=\"8\", width=\"50\", font=\"Arial\",)\n",
    "ChatLog.config(state=DISABLED)\n",
    "scrollbar = Scrollbar(base, command=ChatLog.yview, cursor=\"heart\")\n",
    "ChatLog['yscrollcommand'] = scrollbar.set\n",
    "SendButton = Button(base, font=(\"Verdana\",12,'bold'), text=\"Send\", width=\"12\", height=5, bd=0, bg=\"#32de97\", activebackground=\"#3c9d9b\",fg='#ffffff', command= send )\n",
    "EntryBox = Text(base, bd=0, bg=\"white\",width=\"29\", height=\"5\", font=\"Arial\")\n",
    "scrollbar.place(x=376,y=6, height=386)\n",
    "ChatLog.place(x=6,y=6, height=386, width=370)\n",
    "EntryBox.place(x=128, y=401, height=90, width=265)\n",
    "SendButton.place(x=6, y=401, height=90)\n",
    "base.mainloop()"
   ]
  },
  {
   "cell_type": "code",
   "execution_count": null,
   "id": "f2775ffa",
   "metadata": {},
   "outputs": [],
   "source": []
  },
  {
   "cell_type": "code",
   "execution_count": null,
   "id": "1eb30b22",
   "metadata": {},
   "outputs": [],
   "source": []
  }
 ],
 "metadata": {
  "kernelspec": {
   "display_name": "Python 3 (ipykernel)",
   "language": "python",
   "name": "python3"
  },
  "language_info": {
   "codemirror_mode": {
    "name": "ipython",
    "version": 3
   },
   "file_extension": ".py",
   "mimetype": "text/x-python",
   "name": "python",
   "nbconvert_exporter": "python",
   "pygments_lexer": "ipython3",
   "version": "3.8.0"
  }
 },
 "nbformat": 4,
 "nbformat_minor": 5
}
